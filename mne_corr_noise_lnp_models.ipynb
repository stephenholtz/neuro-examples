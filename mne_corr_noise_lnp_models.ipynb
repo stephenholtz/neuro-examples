{
 "cells": [
  {
   "cell_type": "markdown",
   "metadata": {},
   "source": [
    "# MNE Receptive Field Models for LNP Neurons\n",
    "\n",
    "This notebook demonstrates maximum noise entropy (MNE) model fitting, and compares MNE model output with a (whitened) spike-triggered average (STA) model. It uses the output of synthetic, Linear-Nonlinear Poisson (LNP) neurons stimulated with simply correlated noise as a data source.\n",
    "\n",
    "Inspiration/code from:\n",
    "1. _\"Analysis of Neuronal Spike Trains, Deconstructed\"_, by J. Aljadeff, B.J. Lansdell, A.L. Fairhall and D. Kleinfeld (2016) Neuron, 91 http://dx.doi.org/10.1016/j.neuron.2016.05.039 \n",
    "2. Sharpee Lab code (find/add citation)\n",
    "\n",
    "** TODO: add more inline annotation and consistent labeling **\n",
    "\n",
    "_SLH 2017_"
   ]
  },
  {
   "cell_type": "code",
   "execution_count": null,
   "metadata": {},
   "outputs": [],
   "source": []
  }
 ],
 "metadata": {
  "kernelspec": {
   "display_name": "Python 3",
   "language": "python",
   "name": "python3"
  },
  "language_info": {
   "codemirror_mode": {
    "name": "ipython",
    "version": 3
   },
   "file_extension": ".py",
   "mimetype": "text/x-python",
   "name": "python",
   "nbconvert_exporter": "python",
   "pygments_lexer": "ipython3",
   "version": "3.6.1"
  }
 },
 "nbformat": 4,
 "nbformat_minor": 2
}
